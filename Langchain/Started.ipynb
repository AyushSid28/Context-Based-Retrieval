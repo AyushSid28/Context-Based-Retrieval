{
 "cells": [
  {
   "cell_type": "code",
   "execution_count": 7,
   "id": "b4ec3f02",
   "metadata": {},
   "outputs": [],
   "source": [
    "import os\n",
    "from dotenv import load_dotenv\n",
    "load_dotenv()\n",
    "os.environ[\"OPENAI_API_KEY\"]=os.getenv(\"OPENAI_API_KEY\")\n",
    "os.environ[\"LANGCHAIN_API_KEY\"]=os.getenv(\"LANGCHAIN_API_KEY\")\n",
    "os.environ[\"LANGCHAIN_TRACING_V2\"]=\"true\"\n",
    "os.environ[\"LANGCHAIN_PROJECT\"]=os.getenv(\"LANGCHAIN_PROJECT\")"
   ]
  },
  {
   "cell_type": "code",
   "execution_count": 10,
   "id": "2c7d3d9c",
   "metadata": {},
   "outputs": [
    {
     "data": {
      "text/plain": [
       "ChatOpenAI(client=<openai.resources.chat.completions.completions.Completions object at 0x11f2874d0>, async_client=<openai.resources.chat.completions.completions.AsyncCompletions object at 0x11f287890>, root_client=<openai.OpenAI object at 0x11f287250>, root_async_client=<openai.AsyncOpenAI object at 0x11f287610>, model_name='gpt-4o-mini', model_kwargs={}, openai_api_key=SecretStr('**********'), stream_usage=True)"
      ]
     },
     "execution_count": 10,
     "metadata": {},
     "output_type": "execute_result"
    }
   ],
   "source": [
    "from langchain_openai import ChatOpenAI\n",
    "\n",
    "llm=ChatOpenAI(model=\"gpt-4o-mini\")\n",
    "llm"
   ]
  },
  {
   "cell_type": "code",
   "execution_count": 15,
   "id": "b861cf15",
   "metadata": {},
   "outputs": [],
   "source": [
    "#Input and get response from llm\n",
    "result=llm.invoke(\"What is trans temporal metaphysics?\")"
   ]
  },
  {
   "cell_type": "code",
   "execution_count": 17,
   "id": "6a68c969",
   "metadata": {},
   "outputs": [
    {
     "name": "stdout",
     "output_type": "stream",
     "text": [
      "content='Trans-temporal metaphysics is a branch of metaphysical inquiry that explores the nature of time, existence, and reality beyond conventional temporal frameworks. It considers questions related to how entities might exist independently of time, how temporal change affects being, and what it means for something to persist through time or across different temporal contexts.\\n\\nIn this context, trans-temporal metaphysics might address topics such as:\\n\\n1. **Persistence through Time**: How do objects and entities maintain their identity over time, particularly when they undergo changes?\\n\\n2. **The Nature of Time**: Investigating whether time is linear, cyclical, or even an emergent phenomenon rather than a fundamental aspect of reality.\\n\\n3. **Temporal Parts**: Theories like four-dimensionalism, where objects are considered to be extended across time, can be examined to evaluate how they relate to traditional three-dimensional objects.\\n\\n4. **Existence and Non-existence**: Exploring the status of past and future entities or events raises questions about what it means for something to \"exist\" temporally.\\n\\n5. **Relations Between Times**: How do different times relate to one another? This could involve discussions about the presentism vs. eternalism debate (i.e., whether only present events exist versus whether past and future events are equally real).\\n\\nTrans-temporal metaphysics often intersects with other philosophical disciplines, including philosophy of time, ontology, and even the philosophy of language, as the way we speak about time and existence can reflect deeper metaphysical commitments.' additional_kwargs={'refusal': None} response_metadata={'token_usage': {'completion_tokens': 301, 'prompt_tokens': 14, 'total_tokens': 315, 'completion_tokens_details': {'accepted_prediction_tokens': 0, 'audio_tokens': 0, 'reasoning_tokens': 0, 'rejected_prediction_tokens': 0}, 'prompt_tokens_details': {'audio_tokens': 0, 'cached_tokens': 0}}, 'model_provider': 'openai', 'model_name': 'gpt-4o-mini-2024-07-18', 'system_fingerprint': 'fp_560af6e559', 'id': 'chatcmpl-CSeKfDmdgKQo8aSQQF8sfXog6NsqV', 'service_tier': 'default', 'finish_reason': 'stop', 'logprobs': None} id='lc_run--2afe78d0-ecf1-4b65-a2e8-2477dab3548c-0' usage_metadata={'input_tokens': 14, 'output_tokens': 301, 'total_tokens': 315, 'input_token_details': {'audio': 0, 'cache_read': 0}, 'output_token_details': {'audio': 0, 'reasoning': 0}}\n"
     ]
    }
   ],
   "source": [
    "print(result)"
   ]
  },
  {
   "cell_type": "code",
   "execution_count": 20,
   "id": "c1e7448e",
   "metadata": {},
   "outputs": [
    {
     "data": {
      "text/plain": [
       "ChatPromptTemplate(input_variables=['input'], input_types={}, partial_variables={}, messages=[SystemMessagePromptTemplate(prompt=PromptTemplate(input_variables=[], input_types={}, partial_variables={}, template='You are an expert AI engineer provide me answers based on your experience'), additional_kwargs={}), HumanMessagePromptTemplate(prompt=PromptTemplate(input_variables=['input'], input_types={}, partial_variables={}, template='{input}'), additional_kwargs={})])"
      ]
     },
     "execution_count": 20,
     "metadata": {},
     "output_type": "execute_result"
    }
   ],
   "source": [
    "###Prompt Template\n",
    "from langchain_core.prompts import ChatPromptTemplate\n",
    "prompt=ChatPromptTemplate.from_messages(\n",
    "    [\n",
    "         #System is basically the LLM model\n",
    "        (\"system\",\"You are an expert AI engineer provide me answers based on your experience\"),\n",
    "        (\"user\",\"{input}\")\n",
    "    ]\n",
    ")\n",
    "\n",
    "prompt"
   ]
  },
  {
   "cell_type": "code",
   "execution_count": 22,
   "id": "eeb98869",
   "metadata": {},
   "outputs": [
    {
     "name": "stdout",
     "output_type": "stream",
     "text": [
      "content='LangSmith is a tool designed to assist in the development, testing, and optimization of language models within complex AI systems. Its main focus is on streamlining the workflow involved in building and refining AI applications that rely on natural language processing (NLP). Here are several key uses of LangSmith in complex AI systems:\\n\\n1. **Debugging and Testing**: LangSmith provides utilities for debugging and testing language models. This allows developers to identify issues in model performance, understand failure modes, and ensure that the AI behaves as expected across various scenarios.\\n\\n2. **Prompt Engineering**: Given that the effectiveness of language models often depends on how prompts are formulated, LangSmith can assist in crafting and optimizing prompts to elicit the desired responses from the model. It helps in experimenting with different prompt structures and analyzing outputs.\\n\\n3. **Performance Monitoring**: LangSmith can be used to monitor the performance of language models in real-time. This includes tracking metrics such as accuracy, response time, and content appropriateness, which are critical for maintaining the quality of AI systems.\\n\\n4. **Version Control**: In complex AI systems, managing different versions of language models is essential. LangSmith may provide functionalities to track changes, compare model versions, and roll back to previous iterations if needed.\\n\\n5. **Integration with Other Tools**: LangSmith can facilitate integration with other machine learning and data engineering tools, allowing for a more seamless workflow. This capability supports the development of more comprehensive AI systems by connecting various components easily.\\n\\n6. **User Interface Development**: For applications that interact with end-users, LangSmith may offer frameworks or guidelines for developing user interfaces that effectively leverage the capabilities of language models.\\n\\n7. **Collaboration**: LangSmith can enable team collaboration by providing shared resources and tools to document experiments, insights, and results, which is crucial in complex projects that involve multiple stakeholders.\\n\\n8. **Feedback Loop Creation**: LangSmith can help create a feedback mechanism where user interactions with the language model can be gathered and analyzed. This data assists in continual learning and model refinement based on real-world usage.\\n\\nBy utilizing these features, LangSmith can significantly enhance the development process of complex AI systems, improving both speed and effectiveness while reducing errors and mismatches in expected outputs.' additional_kwargs={'refusal': None} response_metadata={'token_usage': {'completion_tokens': 453, 'prompt_tokens': 38, 'total_tokens': 491, 'completion_tokens_details': {'accepted_prediction_tokens': 0, 'audio_tokens': 0, 'reasoning_tokens': 0, 'rejected_prediction_tokens': 0}, 'prompt_tokens_details': {'audio_tokens': 0, 'cached_tokens': 0}}, 'model_provider': 'openai', 'model_name': 'gpt-4o-mini-2024-07-18', 'system_fingerprint': 'fp_560af6e559', 'id': 'chatcmpl-CSeVaNmkg3pblgmhCdRSTiTrOMHgi', 'service_tier': 'default', 'finish_reason': 'stop', 'logprobs': None} id='lc_run--87a34720-cfe6-44fc-91ca-d86ee8e7197f-0' usage_metadata={'input_tokens': 38, 'output_tokens': 453, 'total_tokens': 491, 'input_token_details': {'audio': 0, 'cache_read': 0}, 'output_token_details': {'audio': 0, 'reasoning': 0}}\n"
     ]
    }
   ],
   "source": [
    "chain=prompt|llm\n",
    "response=chain.invoke(\"What is the use of langsmith in complex aentic AI systems?\")\n",
    "print(response)\n"
   ]
  }
 ],
 "metadata": {
  "kernelspec": {
   "display_name": "venv",
   "language": "python",
   "name": "python3"
  },
  "language_info": {
   "codemirror_mode": {
    "name": "ipython",
    "version": 3
   },
   "file_extension": ".py",
   "mimetype": "text/x-python",
   "name": "python",
   "nbconvert_exporter": "python",
   "pygments_lexer": "ipython3",
   "version": "3.13.5"
  }
 },
 "nbformat": 4,
 "nbformat_minor": 5
}
