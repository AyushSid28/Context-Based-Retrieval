{
 "cells": [
  {
   "cell_type": "code",
   "execution_count": null,
   "id": "43b15383",
   "metadata": {},
   "outputs": [
    {
     "data": {
      "text/plain": [
       "ChatGroq(client=<groq.resources.chat.completions.Completions object at 0x10ce8cb90>, async_client=<groq.resources.chat.completions.AsyncCompletions object at 0x10ce8c690>, model_name='openai/gpt-oss-120b', model_kwargs={}, groq_api_key=SecretStr('**********'))"
      ]
     },
     "execution_count": 10,
     "metadata": {},
     "output_type": "execute_result"
    }
   ],
   "source": [
    "import os\n",
    "from dotenv import load_dotenv\n",
    "load_dotenv()\n",
    "\n",
    "\n",
    "\n",
    "groq_api_key = os.getenv(\"GROQ_API_KEY\")\n",
    "from langchain_groq import ChatGroq\n",
    "model = ChatGroq(model=\"openai/gpt-oss-120b\",groq_api_key=groq_api_key)\n",
    "model\n"
   ]
  },
  {
   "cell_type": "code",
   "execution_count": 13,
   "id": "3ed97aef",
   "metadata": {},
   "outputs": [
    {
     "name": "stdout",
     "output_type": "stream",
     "text": [
      "content='**Hello, how are you?** → *Hello, aap kaise ho?*' additional_kwargs={'reasoning_content': 'The user wants translation into \"hinglish\" (Hindi-English mix). The text: \"Hello, how are you?\" In hinglish: \"Hello, aap kaise ho?\" Or \"Hello, aap kaise ho?\" Could also be \"Hi, aap kaise ho?\" We\\'ll provide translation.'} response_metadata={'token_usage': {'completion_tokens': 92, 'prompt_tokens': 87, 'total_tokens': 179, 'completion_time': 0.196827622, 'prompt_time': 0.004969031, 'queue_time': 4.238405289, 'total_time': 0.201796653}, 'model_name': 'openai/gpt-oss-120b', 'system_fingerprint': 'fp_5c888d599f', 'service_tier': 'on_demand', 'finish_reason': 'stop', 'logprobs': None, 'model_provider': 'groq'} id='lc_run--7ae94a7a-f725-439e-a573-5264951372ac-0' usage_metadata={'input_tokens': 87, 'output_tokens': 92, 'total_tokens': 179}\n"
     ]
    }
   ],
   "source": [
    "from langchain_core.messages import HumanMessage,SystemMessage\n",
    "messages=[\n",
    "   #Instruction\n",
    "    SystemMessage(content=\"Translate the following text into hinglish\"),\n",
    "    #User Message\n",
    "    HumanMessage(content=\"Hello, how are you?\")\n",
    "]\n",
    "\n",
    "response=model.invoke(messages)\n",
    "print(response)"
   ]
  },
  {
   "cell_type": "code",
   "execution_count": 14,
   "id": "1a2d870a",
   "metadata": {},
   "outputs": [
    {
     "data": {
      "text/plain": [
       "'**Hello, how are you?** → *Hello, aap kaise ho?*'"
      ]
     },
     "execution_count": 14,
     "metadata": {},
     "output_type": "execute_result"
    }
   ],
   "source": [
    "from langchain_core.output_parsers import StrOutputParser\n",
    "parser=StrOutputParser()\n",
    "parser.invoke(response)"
   ]
  },
  {
   "cell_type": "code",
   "execution_count": 15,
   "id": "34a38ce5",
   "metadata": {},
   "outputs": [
    {
     "data": {
      "text/plain": [
       "'**Hello, aap kaise ho?**'"
      ]
     },
     "execution_count": 15,
     "metadata": {},
     "output_type": "execute_result"
    }
   ],
   "source": [
    "##Using LCEL we can chain  the components together\n",
    "chain=model|parser\n",
    "chain.invoke(messages)"
   ]
  },
  {
   "cell_type": "code",
   "execution_count": 1,
   "id": "34b930dd",
   "metadata": {},
   "outputs": [
    {
     "name": "stderr",
     "output_type": "stream",
     "text": [
      "/Users/ayushsiddhant/Desktop/Langchain/venv/lib/python3.13/site-packages/tqdm/auto.py:21: TqdmWarning: IProgress not found. Please update jupyter and ipywidgets. See https://ipywidgets.readthedocs.io/en/stable/user_install.html\n",
      "  from .autonotebook import tqdm as notebook_tqdm\n"
     ]
    }
   ],
   "source": [
    "##Prompt Template\n",
    "from langchain_core.prompts import ChatPromptTemplate\n",
    "\n",
    "generic_template = \"Translate the following into {language}\"\n",
    "prompt = ChatPromptTemplate.from_messages([\n",
    "    (\"system\", generic_template),\n",
    "    (\"user\", \"{text}\")\n",
    "])\n"
   ]
  },
  {
   "cell_type": "code",
   "execution_count": 25,
   "id": "a48987a8",
   "metadata": {},
   "outputs": [
    {
     "data": {
      "text/plain": [
       "[SystemMessage(content='Translate the following into Hinglish', additional_kwargs={}, response_metadata={}),\n",
       " HumanMessage(content='Hello, What are you going to ear today?', additional_kwargs={}, response_metadata={})]"
      ]
     },
     "execution_count": 25,
     "metadata": {},
     "output_type": "execute_result"
    }
   ],
   "source": [
    "result=prompt.invoke({\"language\":\"Hinglish\",\"text\":\"Hello, What are you going to ear today?\"})\n",
    "result.to_messages()\n"
   ]
  },
  {
   "cell_type": "code",
   "execution_count": 26,
   "id": "748fbf03",
   "metadata": {},
   "outputs": [
    {
     "data": {
      "text/plain": [
       "'**Hello, aaj tum kya khane wale ho?**'"
      ]
     },
     "execution_count": 26,
     "metadata": {},
     "output_type": "execute_result"
    }
   ],
   "source": [
    "chain=prompt|model|parser\n",
    "chain.invoke({\"language\":\"Hinglish\",\"text\":\"Hello, What are you going to ear today?\"})"
   ]
  },
  {
   "cell_type": "code",
   "execution_count": null,
   "id": "00601f44",
   "metadata": {},
   "outputs": [],
   "source": [
    "###LangServe Help developers deploy LangChain runnablesand chains as a RestAPIs\n",
    "###use case for this is when we have a chain and we want to deploy it into a RestAPI\n"
   ]
  }
 ],
 "metadata": {
  "kernelspec": {
   "display_name": "venv",
   "language": "python",
   "name": "python3"
  },
  "language_info": {
   "codemirror_mode": {
    "name": "ipython",
    "version": 3
   },
   "file_extension": ".py",
   "mimetype": "text/x-python",
   "name": "python",
   "nbconvert_exporter": "python",
   "pygments_lexer": "ipython3",
   "version": "3.13.5"
  }
 },
 "nbformat": 4,
 "nbformat_minor": 5
}
