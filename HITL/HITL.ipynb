{
 "cells": [
  {
   "cell_type": "code",
   "execution_count": 35,
   "id": "b6fff6ef",
   "metadata": {},
   "outputs": [
    {
     "name": "stdout",
     "output_type": "stream",
     "text": [
      "Hello! How can I assist you today?\n"
     ]
    }
   ],
   "source": [
    "import os\n",
    "from dotenv import load_dotenv\n",
    "load_dotenv()\n",
    "from langchain_openai import ChatOpenAI\n",
    "os.environ[\"OPENAI_API_KEY\"]=os.getenv(\"OPENAI_API_KEY\")\n",
    "llm=ChatOpenAI(model=\"gpt-4o-mini\")\n",
    "\n",
    "result=llm.invoke(\"Hello?\")\n",
    "print(result.content)"
   ]
  },
  {
   "cell_type": "code",
   "execution_count": 36,
   "id": "7e3cf7ac",
   "metadata": {},
   "outputs": [
    {
     "data": {
      "text/plain": [
       "[<function __main__.multiply(a: int, b: int) -> int>,\n",
       " <function __main__.add(a: int, b: int) -> int>,\n",
       " <function __main__.divide(a: int, b: int) -> float>]"
      ]
     },
     "execution_count": 36,
     "metadata": {},
     "output_type": "execute_result"
    }
   ],
   "source": [
    "###Custom Tools\n",
    "\n",
    "\n",
    "#Always give the docstring as that is going to be read by the LLM\n",
    "def multiply(a:int,b:int)->int:\n",
    "    \"\"\"Multiply a and b\n",
    "\n",
    "    Args:\n",
    "        a: first int\n",
    "        b: second int\n",
    "    \"\"\"\n",
    "    return a*b\n",
    "\n",
    "def add(a:int,b:int)->int:\n",
    "    \"\"\"Add a and b\n",
    "\n",
    "    Args:\n",
    "        a:first int\n",
    "        b:second int\n",
    "    \"\"\"\n",
    "    return a+b\n",
    "\n",
    "def divide(a:int,b:int)->float:\n",
    "    \"\"\"Divide a by b\n",
    "     \n",
    "    Args:\n",
    "        a:first int\n",
    "        b:second int\n",
    "    \"\"\"\n",
    "    return a/b\n",
    "\n",
    "tools=[multiply,add,divide]\n",
    "\n",
    "tools"
   ]
  },
  {
   "cell_type": "code",
   "execution_count": 37,
   "id": "0523d83e",
   "metadata": {},
   "outputs": [
    {
     "data": {
      "text/plain": [
       "RunnableBinding(bound=ChatOpenAI(client=<openai.resources.chat.completions.completions.Completions object at 0x12b400410>, async_client=<openai.resources.chat.completions.completions.AsyncCompletions object at 0x12b400a50>, root_client=<openai.OpenAI object at 0x12b26f390>, root_async_client=<openai.AsyncOpenAI object at 0x12b4007d0>, model_name='gpt-4o-mini', model_kwargs={}, openai_api_key=SecretStr('**********'), stream_usage=True), kwargs={'tools': [{'type': 'function', 'function': {'name': 'multiply', 'description': 'Multiply a and b', 'parameters': {'properties': {'a': {'description': 'first int', 'type': 'integer'}, 'b': {'description': 'second int', 'type': 'integer'}}, 'required': ['a', 'b'], 'type': 'object'}}}, {'type': 'function', 'function': {'name': 'add', 'description': 'Add a and b', 'parameters': {'properties': {'a': {'description': 'first int', 'type': 'integer'}, 'b': {'description': 'second int', 'type': 'integer'}}, 'required': ['a', 'b'], 'type': 'object'}}}, {'type': 'function', 'function': {'name': 'divide', 'description': 'Divide a by b', 'parameters': {'properties': {'a': {'description': 'first int', 'type': 'integer'}, 'b': {'description': 'second int', 'type': 'integer'}}, 'required': ['a', 'b'], 'type': 'object'}}}]}, config={}, config_factories=[])"
      ]
     },
     "execution_count": 37,
     "metadata": {},
     "output_type": "execute_result"
    }
   ],
   "source": [
    "##Integrate Tools with LLM\n",
    "llm_with_tools=llm.bind_tools(tools)\n",
    "llm_with_tools"
   ]
  },
  {
   "cell_type": "code",
   "execution_count": null,
   "id": "9d35699d",
   "metadata": {},
   "outputs": [
    {
     "data": {
      "image/png": "[encoded data removed]",
      "text/plain": [
       "<IPython.core.display.Image object>"
      ]
     },
     "metadata": {},
     "output_type": "display_data"
    }
   ],
   "source": [
    "##Workflow with Langgraph\n",
    "from IPython.display import Image,display\n",
    "from langgraph.checkpoint.memory import MemorySaver\n",
    "from langgraph.graph import MessagesState\n",
    "from langgraph.graph import START,StateGraph\n",
    "from langgraph.prebuilt import tools_condition,ToolNode\n",
    "from langchain_core.messages import AIMessage,SystemMessage,HumanMessage\n",
    "\n",
    "\n",
    "\n",
    "sys_msg=SystemMessage(content=\"You are a helpful assistant tasked with performing arithmetic operations\")\n",
    "\n",
    "\n",
    "\n",
    "#Node definition\n",
    "def assistant(state:MessagesState):\n",
    "    return {\"messages\":[llm_with_tools.invoke([sys_msg]+ state[\"messages\"])]}\n",
    "\n",
    "\n",
    "##Graph\n",
    "builder=StateGraph(MessagesState)\n",
    "\n",
    "##Define Nodes:\n",
    "builder.add_node(\"assistant\",assistant)\n",
    "builder.add_node(\"tools\",ToolNode(tools))\n",
    "\n",
    "##Define edges \n",
    "builder.add_edge(START,\"assistant\")\n",
    "builder.add_conditional_edges(\n",
    "    \"assistant\",\n",
    "    #If the latest message (result) from assistant is a tool call->tools_condition routes to tool\n",
    "    #If the latest message (result) from assistant is not a tool call-> tools condition routes to END\n",
    "\n",
    "    tools_condition,\n",
    "    )\n",
    "\n",
    "\n",
    "builder.add_edge(\"tools\",\"assistant\")\n",
    "\n",
    "memory=MemorySaver()\n",
    "\n",
    "graph=builder.compile(interrupt_before=[\"assistant\"],checkpointer=memory)\n",
    "\n",
    "display(Image(graph.get_graph().draw_mermaid_png()))\n",
    "\n"
   ]
  },
  {
   "cell_type": "code",
   "execution_count": null,
   "id": "b17f0a6a",
   "metadata": {},
   "outputs": [],
   "source": [
    "thread={\"configurable\":{\"thread_id\":\"123\"}}"
   ]
  },
  {
   "cell_type": "code",
   "execution_count": 40,
   "id": "4f333b3a",
   "metadata": {},
   "outputs": [
    {
     "name": "stdout",
     "output_type": "stream",
     "text": [
      "================================\u001b[1m Human Message \u001b[0m=================================\n",
      "\n",
      "Multiply 2 and 3\n"
     ]
    }
   ],
   "source": [
    "initial_input={'messages':[HumanMessage(content=\"Multiply 2 and 3\")]}\n",
    "\n",
    "for event in graph.stream(initial_input,thread,stream_mode=\"values\"):\n",
    "    event['messages'][-1].pretty_print()"
   ]
  },
  {
   "cell_type": "code",
   "execution_count": 41,
   "id": "e46b3868",
   "metadata": {},
   "outputs": [
    {
     "data": {
      "text/plain": [
       "('assistant',)"
      ]
     },
     "execution_count": 41,
     "metadata": {},
     "output_type": "execute_result"
    }
   ],
   "source": [
    "state=graph.get_state(thread)\n",
    "state.next"
   ]
  },
  {
   "cell_type": "code",
   "execution_count": 42,
   "id": "f1275675",
   "metadata": {},
   "outputs": [
    {
     "data": {
      "text/plain": [
       "StateSnapshot(values={'messages': [HumanMessage(content='Multiply 2 and 3', additional_kwargs={}, response_metadata={}, id='a54da36e-7248-4721-b53a-1a5a942047a0')]}, next=('assistant',), config={'configurable': {'thread_id': '123', 'checkpoint_ns': '', 'checkpoint_id': '1f0b3ecc-9a8b-632e-8000-ecaf5ed87c51'}}, metadata={'source': 'loop', 'step': 0, 'parents': {}}, created_at='2025-10-28T10:56:42.541535+00:00', parent_config={'configurable': {'thread_id': '123', 'checkpoint_ns': '', 'checkpoint_id': '1f0b3ecc-9a84-6bc8-bfff-9b3eafcc9211'}}, tasks=(PregelTask(id='ae40aab6-4106-f0e2-f626-3e6974cf519f', name='assistant', path=('__pregel_pull', 'assistant'), error=None, interrupts=(), state=None, result=None),), interrupts=())"
      ]
     },
     "execution_count": 42,
     "metadata": {},
     "output_type": "execute_result"
    }
   ],
   "source": [
    "state"
   ]
  },
  {
   "cell_type": "code",
   "execution_count": 43,
   "id": "bc4ddd58",
   "metadata": {},
   "outputs": [
    {
     "data": {
      "text/plain": [
       "<generator object Pregel.get_state_history at 0x129e054e0>"
      ]
     },
     "execution_count": 43,
     "metadata": {},
     "output_type": "execute_result"
    }
   ],
   "source": [
    "graph.get_state_history(thread)"
   ]
  },
  {
   "cell_type": "code",
   "execution_count": 44,
   "id": "1e8e8c7e",
   "metadata": {},
   "outputs": [
    {
     "name": "stdout",
     "output_type": "stream",
     "text": [
      "================================\u001b[1m Human Message \u001b[0m=================================\n",
      "\n",
      "Multiply 2 and 3\n",
      "==================================\u001b[1m Ai Message \u001b[0m==================================\n",
      "Tool Calls:\n",
      "  multiply (call_oQJXfO84J5TClUBMZK9NWxZc)\n",
      " Call ID: call_oQJXfO84J5TClUBMZK9NWxZc\n",
      "  Args:\n",
      "    a: 2\n",
      "    b: 3\n",
      "=================================\u001b[1m Tool Message \u001b[0m=================================\n",
      "Name: multiply\n",
      "\n",
      "6\n"
     ]
    }
   ],
   "source": [
    "for event in graph.stream(None,thread,stream_mode=\"values\"):\n",
    "    event['messages'][-1].pretty_print()"
   ]
  },
  {
   "cell_type": "code",
   "execution_count": 45,
   "id": "9775bc55",
   "metadata": {},
   "outputs": [
    {
     "data": {
      "text/plain": [
       "('assistant',)"
      ]
     },
     "execution_count": 45,
     "metadata": {},
     "output_type": "execute_result"
    }
   ],
   "source": [
    "state=graph.get_state(thread)\n",
    "state.next"
   ]
  },
  {
   "cell_type": "code",
   "execution_count": null,
   "id": "72185ff0",
   "metadata": {},
   "outputs": [],
   "source": []
  },
  {
   "cell_type": "code",
   "execution_count": 46,
   "id": "8a0ea475",
   "metadata": {},
   "outputs": [
    {
     "name": "stdout",
     "output_type": "stream",
     "text": [
      "=================================\u001b[1m Tool Message \u001b[0m=================================\n",
      "Name: multiply\n",
      "\n",
      "6\n",
      "==================================\u001b[1m Ai Message \u001b[0m==================================\n",
      "\n",
      "The result of multiplying 2 and 3 is 6.\n"
     ]
    }
   ],
   "source": [
    "#Continue the execution of assistant and then end\n",
    "for event in graph.stream(None,thread,stream_mode=\"values\"):\n",
    "    event['messages'][-1].pretty_print()"
   ]
  },
  {
   "cell_type": "markdown",
   "id": "1efea26a",
   "metadata": {},
   "source": [
    "#Edit the Human FEEDBACK"
   ]
  },
  {
   "cell_type": "code",
   "execution_count": 55,
   "id": "d3a39a28",
   "metadata": {},
   "outputs": [
    {
     "name": "stdout",
     "output_type": "stream",
     "text": [
      "================================\u001b[1m Human Message \u001b[0m=================================\n",
      "\n",
      "Multiply 2 and 3\n"
     ]
    }
   ],
   "source": [
    "initial_input={\"messages\":[HumanMessage(content=\"Multiply 2 and 3\")]}\n",
    "\n",
    "thread={\"configurable\":{\"thread_id\":\"1\"}}\n",
    "for event in graph.stream(initial_input,thread,stream_mode=\"values\"):\n",
    "    event['messages'][-1].pretty_print()"
   ]
  },
  {
   "cell_type": "code",
   "execution_count": null,
   "id": "858e612d",
   "metadata": {},
   "outputs": [],
   "source": []
  },
  {
   "cell_type": "code",
   "execution_count": 56,
   "id": "bc906cd9",
   "metadata": {},
   "outputs": [
    {
     "data": {
      "text/plain": [
       "('assistant',)"
      ]
     },
     "execution_count": 56,
     "metadata": {},
     "output_type": "execute_result"
    }
   ],
   "source": [
    "state=graph.get_state(thread)\n",
    "state.next"
   ]
  },
  {
   "cell_type": "code",
   "execution_count": 57,
   "id": "278cdb86",
   "metadata": {},
   "outputs": [
    {
     "data": {
      "text/plain": [
       "{'configurable': {'thread_id': '1',\n",
       "  'checkpoint_ns': '',\n",
       "  'checkpoint_id': '1f0b3eea-c56d-6204-8001-40ef00d24c3d'}}"
      ]
     },
     "execution_count": 57,
     "metadata": {},
     "output_type": "execute_result"
    }
   ],
   "source": [
    "graph.update_state(thread,{\"messages\":[HumanMessage(content=\"No,Please multiply 15 and 6\")]})"
   ]
  },
  {
   "cell_type": "code",
   "execution_count": 58,
   "id": "d3aa3c21",
   "metadata": {},
   "outputs": [
    {
     "name": "stdout",
     "output_type": "stream",
     "text": [
      "================================\u001b[1m Human Message \u001b[0m=================================\n",
      "\n",
      "Multiply 2 and 3\n",
      "================================\u001b[1m Human Message \u001b[0m=================================\n",
      "\n",
      "No,Please multiply 15 and 6\n"
     ]
    }
   ],
   "source": [
    "new_state=graph.get_state(thread).values\n",
    "\n",
    "for m in new_state[\"messages\"]:\n",
    "    m.pretty_print()"
   ]
  },
  {
   "cell_type": "code",
   "execution_count": null,
   "id": "4a02c54e",
   "metadata": {},
   "outputs": [
    {
     "name": "stdout",
     "output_type": "stream",
     "text": [
      "================================\u001b[1m Human Message \u001b[0m=================================\n",
      "\n",
      "No,Please multiply 15 and 6\n",
      "==================================\u001b[1m Ai Message \u001b[0m==================================\n",
      "Tool Calls:\n",
      "  multiply (call_UPYb72jZLOkbloYzb6wC6EH5)\n",
      " Call ID: call_UPYb72jZLOkbloYzb6wC6EH5\n",
      "  Args:\n",
      "    a: 15\n",
      "    b: 6\n",
      "=================================\u001b[1m Tool Message \u001b[0m=================================\n",
      "Name: multiply\n",
      "\n",
      "90\n"
     ]
    }
   ],
   "source": [
    "\n",
    "for event in graph.stream(initial_input,thread,stream_mode=\"values\"):\n",
    "    event['messages'][-1].pretty_print()"
   ]
  },
  {
   "cell_type": "code",
   "execution_count": 63,
   "id": "65923b8b",
   "metadata": {},
   "outputs": [
    {
     "name": "stdout",
     "output_type": "stream",
     "text": [
      "=================================\u001b[1m Tool Message \u001b[0m=================================\n",
      "Name: multiply\n",
      "\n",
      "90\n",
      "==================================\u001b[1m Ai Message \u001b[0m==================================\n",
      "\n",
      "The result of multiplying 15 and 6 is 90.\n"
     ]
    }
   ],
   "source": [
    "\n",
    "for event in graph.stream(None,thread,stream_mode=\"values\"):\n",
    "    event['messages'][-1].pretty_print()"
   ]
  },
  {
   "cell_type": "code",
   "execution_count": 65,
   "id": "6f3d3ad5",
   "metadata": {},
   "outputs": [
    {
     "data": {
      "image/png": "[encoded data removed]",
      "text/plain": [
       "<IPython.core.display.Image object>"
      ]
     },
     "metadata": {},
     "output_type": "display_data"
    }
   ],
   "source": [
    "#Workflow will wait for user input\n",
    "#Workflow will wait for user input\n",
    "sys_msg=SystemMessage(content=\"You are a helpful assistant that can perform arithmetic operations\")\n",
    "\n",
    "##Human feedback Node\n",
    "\n",
    "def human_feedback(state:MessagesState):\n",
    "      pass\n",
    "\n",
    "\n",
    "##Assistant Node\n",
    "def assistant(state:MessagesState):\n",
    "    return {\"messages\":[llm_with_tools.invoke([sys_msg]+state[\"messages\"])]}\n",
    "\n",
    "\n",
    "builder=StateGraph(MessagesState)\n",
    "\n",
    "#Add Node\n",
    "builder.add_node(\"assistant\",assistant)\n",
    "builder.add_node(\"human_feedback\",human_feedback)\n",
    "builder.add_node(\"tools\",ToolNode(tools))\n",
    "\n",
    "\n",
    "#Add Edge\n",
    "builder.add_edge(START,\"human_feedback\")\n",
    "builder.add_edge(\"human_feedback\",\"assistant\")\n",
    "builder.add_conditional_edges(\n",
    "    \"assistant\",\n",
    "    tools_condition,\n",
    "\n",
    ")\n",
    "\n",
    "builder.add_edge(\"tools\",\"human_feedback\")\n",
    "\n",
    "memory=MemorySaver()\n",
    "\n",
    "graph=builder.compile(interrupt_before=[\"human_feedback\"],checkpointer=memory)\n",
    "\n",
    "display(Image(graph.get_graph().draw_mermaid_png()))"
   ]
  },
  {
   "cell_type": "code",
   "execution_count": 71,
   "id": "179deea5",
   "metadata": {},
   "outputs": [
    {
     "name": "stdout",
     "output_type": "stream",
     "text": [
      "================================\u001b[1m Human Message \u001b[0m=================================\n",
      "\n",
      "Multiply 2 and 3 \n",
      "================================\u001b[1m Human Message \u001b[0m=================================\n",
      "\n",
      "Please update the numbers with 5 and 15\n",
      "==================================\u001b[1m Ai Message \u001b[0m==================================\n",
      "Tool Calls:\n",
      "  multiply (call_Tbx6yofRylAOUTc7pA3Y79nD)\n",
      " Call ID: call_Tbx6yofRylAOUTc7pA3Y79nD\n",
      "  Args:\n",
      "    a: 5\n",
      "    b: 15\n",
      "=================================\u001b[1m Tool Message \u001b[0m=================================\n",
      "Name: multiply\n",
      "\n",
      "75\n"
     ]
    }
   ],
   "source": [
    "#Input\n",
    "initial_input={\"messages\":[HumanMessage(content=\"Multiply 2 and 3 \")]}\n",
    "\n",
    "\n",
    "#Thread\n",
    "thread={\"configurable\":{\"thread_id\":\"5\"}}\n",
    "\n",
    "#Run the graph until the first interruption\n",
    "for event in graph.stream(initial_input,thread,stream_mode=\"values\"):\n",
    "    event[\"messages\"][-1].pretty_print()\n",
    "\n",
    "\n",
    "\n",
    "#GET USER INPUT\n",
    "user_input=input(\"Tel me how do you want to update the state\")\n",
    "graph.update_state(thread,{\"messages\":user_input},as_node=\"human_feedback\")\n",
    "\n",
    "for event in graph.stream(None,thread,stream_mode=\"values\"):\n",
    "    event[\"messages\"][-1].pretty_print()\n",
    "\n",
    "\n"
   ]
  },
  {
   "cell_type": "code",
   "execution_count": null,
   "id": "b404fe38",
   "metadata": {},
   "outputs": [],
   "source": []
  }
 ],
 "metadata": {
  "kernelspec": {
   "display_name": "venv",
   "language": "python",
   "name": "python3"
  },
  "language_info": {
   "codemirror_mode": {
    "name": "ipython",
    "version": 3
   },
   "file_extension": ".py",
   "mimetype": "text/x-python",
   "name": "python",
   "nbconvert_exporter": "python",
   "pygments_lexer": "ipython3",
   "version": "3.13.5"
  }
 },
 "nbformat": 4,
 "nbformat_minor": 5
}
