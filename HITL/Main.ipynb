{
 "cells": [
  {
   "cell_type": "code",
   "execution_count": null,
   "id": "b6fff6ef",
   "metadata": {},
   "outputs": [],
   "source": [
    "HITL INITIATION"
   ]
  }
 ],
 "metadata": {
  "language_info": {
   "name": "python"
  }
 },
 "nbformat": 4,
 "nbformat_minor": 5
}
