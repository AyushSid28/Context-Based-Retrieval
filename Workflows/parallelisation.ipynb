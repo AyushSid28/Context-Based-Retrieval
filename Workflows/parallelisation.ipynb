{
 "cells": [
  {
   "cell_type": "code",
   "execution_count": 2,
   "id": "c8a831d8",
   "metadata": {},
   "outputs": [
    {
     "data": {
      "text/plain": [
       "AIMessage(content='The capital of France is Paris.', additional_kwargs={'refusal': None}, response_metadata={'token_usage': {'completion_tokens': 7, 'prompt_tokens': 14, 'total_tokens': 21, 'completion_tokens_details': {'accepted_prediction_tokens': 0, 'audio_tokens': 0, 'reasoning_tokens': 0, 'rejected_prediction_tokens': 0}, 'prompt_tokens_details': {'audio_tokens': 0, 'cached_tokens': 0}}, 'model_provider': 'openai', 'model_name': 'gpt-4o-mini-2024-07-18', 'system_fingerprint': 'fp_560af6e559', 'id': 'chatcmpl-CUoi9P8BNiwp6KS136quUYzXp3SkN', 'service_tier': 'default', 'finish_reason': 'stop', 'logprobs': None}, id='lc_run--551ec298-212e-4eb4-b496-24509e6a4b34-0', usage_metadata={'input_tokens': 14, 'output_tokens': 7, 'total_tokens': 21, 'input_token_details': {'audio': 0, 'cache_read': 0}, 'output_token_details': {'audio': 0, 'reasoning': 0}})"
      ]
     },
     "execution_count": 2,
     "metadata": {},
     "output_type": "execute_result"
    }
   ],
   "source": [
    "import os\n",
    "from dotenv import load_dotenv\n",
    "load_dotenv()\n",
    "import os\n",
    "from langchain_openai import ChatOpenAI\n",
    "os.environ[\"OPENAI_API_KEY\"]=os.getenv(\"OPENAI_API_KEY\")\n",
    "llm=ChatOpenAI(model=\"gpt-4o-mini\")\n",
    "result=llm.invoke(\"What is the capital of France?\")\n",
    "result\n"
   ]
  },
  {
   "cell_type": "code",
   "execution_count": 5,
   "id": "0186d893",
   "metadata": {},
   "outputs": [],
   "source": [
    "from typing_extensions import TypedDict\n",
    "from langgraph.graph import StateGraph,START,END\n",
    "from IPython.display import Image,display\n",
    "\n",
    "#Graph State\n",
    "class State(TypedDict):\n",
    "    topic:str\n",
    "    characters:str\n",
    "    settings:str\n",
    "    premises:str\n",
    "    story_intro:str"
   ]
  },
  {
   "cell_type": "code",
   "execution_count": 6,
   "id": "ec3fc8ec",
   "metadata": {},
   "outputs": [],
   "source": [
    "#Nodes\n",
    "\n",
    "def generate_characters(state:State):\n",
    "    msg=llm.invoke(f\"Create two character names and breif traits for a story about {state[\"topic\"]}\")\n",
    "    return {\"characters\":msg.content}\n",
    "\n",
    "def generate_settings(state:State):\n",
    "    \"\"\"Generate settings for the story\"\"\"\n",
    "    msg=llm.invoke(f\"Generate the settings for the story about {state[\"topic\"]}\")\n",
    "    return {\"settings\":msg.content}\n",
    "\n",
    "def generate_premise(state:State):\n",
    "    \"\"\"Generate the premise for the Story\"\"\"\n",
    "    msg=llm.invoke(f\"Generate a premise for the Story about {state['topic']}\" )\n",
    "    return {\"premises\":msg.content}\n",
    "\n",
    "def combine_elements(state:State):\n",
    "    \"\"\"Combine all elements or bole toh Nodes together \"\"\"\n",
    "    msg=llm.invoke(\n",
    "          f\"Write a short story introduction using these elements: \\n\"\n",
    "          f\"Characters: {state['characters']}\\n\"\n",
    "          f\"Settings: {state[\"settings\"]}\\n\"\n",
    "          f\"Premise:  {state[\"premises\"]}\"\n",
    "\n",
    "    )\n",
    "    return {\"story_intro\":msg.content}"
   ]
  },
  {
   "cell_type": "code",
   "execution_count": 7,
   "id": "ec4cb97a",
   "metadata": {},
   "outputs": [
    {
     "data": {
      "image/png": "[encoded data removed]",
      "text/plain": [
       "<IPython.core.display.Image object>"
      ]
     },
     "metadata": {},
     "output_type": "display_data"
    }
   ],
   "source": [
    "#Build the graph\n",
    "\n",
    "graph=StateGraph(State)\n",
    "\n",
    "graph.add_node(\"character\",generate_characters)\n",
    "graph.add_node(\"setting\",generate_settings)\n",
    "graph.add_node(\"premise\",generate_premise)\n",
    "graph.add_node(\"combine\",combine_elements)\n",
    "\n",
    "\n",
    "#edges\n",
    "graph.add_edge(START,\"character\")\n",
    "graph.add_edge(START,\"setting\")\n",
    "graph.add_edge(START,\"premise\")\n",
    "\n",
    "graph.add_edge(\"character\",\"combine\")\n",
    "graph.add_edge(\"setting\",\"combine\")\n",
    "graph.add_edge(\"premise\",\"combine\")\n",
    "graph.add_edge(\"combine\",END)\n",
    "\n",
    "#Compile and Run\n",
    "compiled_graph=graph.compile()\n",
    "graph_image=compiled_graph.get_graph().draw_mermaid_png()\n",
    "display(Image(graph_image))"
   ]
  },
  {
   "cell_type": "code",
   "execution_count": 8,
   "id": "4402de0c",
   "metadata": {},
   "outputs": [
    {
     "data": {
      "text/plain": [
       "{'topic': 'Transformers and Ben 10 Ultimate ALien working together for a fiht against Doraemon and Ninja Hattori',\n",
       " 'characters': \"Sure! Here are two character names along with brief traits for your crossover story:\\n\\n### Character 1: **RumbleBolt**\\n- **Species**: Transformer\\n- **Alt-Form**: High-tech armored motorcycle\\n- **Traits**: RumbleBolt is a swift and agile Autobot known for his speed and reflexes. He has a playful yet courageous spirit, often using humor to lighten tense situations. He is a skilled strategist in battle, able to quickly assess weaknesses in his opponents. RumbleBolt values teamwork and often encourages his allies during fights, believing that together they can overcome any challenge. Despite his light-hearted demeanor, he possesses a fearless heart when it comes to protecting his friends.\\n\\n### Character 2: **Max Tennyson**\\n- **Species**: Human (Ben 10 Ultimate Alien)\\n- **Traits**: A brave and resourceful young hero, Max is Ben Tennyson's cousin who has learned to harness the power of the Omnitrix. He is skilled in adapting his alien forms to fit various combat scenarios and is known for his quick thinking under pressure. Max possesses a strong sense of justice and a desire to help others, inheriting Ben's legacy while also carving out his own identity. He is determined and fiercely loyal to his friends, often rallying them when the odds seem stacked against them.\\n\\n### Plot Context:\\nIn your story, RumbleBolt and Max Tennyson must join forces to stop Doraemon, a charming but mischievous robotic cat, and Ninja Hattori, a skilled ninja boy, who have teamed up to cause chaos using time-bending gadgets and stealth tactics. The unlikely alliance between Transformers and Ben 10 ultimately showcases the importance of friendship, bravery, and clever teamwork against cunning foes.\",\n",
       " 'settings': '**Title:** **Transformers vs. Doraemon: Ultimate Alliance**\\n\\n**Genre:** Sci-Fi/Action/Adventure\\n\\n### Setting:\\n\\n1. **Futuristic Metropolis:**\\n   - The story opens in a sprawling city filled with towering skyscrapers and advanced technology. Neon lights flash dynamically, showcasing endless advertisements for alien technology. High above, Transformers are seen zooming through the skies, transforming from vehicles to their powerful robot forms. The city has a lively culture, with both humans and alien visitors from other planets mingling. \\n\\n2. **Cybertronian Base:**\\n   - The Autobots have established a secret base beneath the roots of an ancient tree within a park in the metropolis. This base is filled with advanced machinery and tech, giving a glimpse into Cybertronian civilization. It is here where Ben Tennyson and the Transformers strategize for their fight against the looming threat.\\n\\n3. **Doraemon’s Time Travel Lab:**\\n   - A hidden lab where Doraemon stores his futuristic gadgets from the future. The lab features various rooms filled with time-travel devices, while various spaces display different timelines and their consequences. The setting is bright and colorful, but a sense of tension looms as Doraemon tinkers with new inventions meant to aid Ninja Hattori in their plot.\\n\\n4. **Ninja Village:**\\n   - A serene yet mystical forest village where Ninja Hattori hails from. The village boasts traditional Japanese architecture blended with Ninja training grounds. The villagers are skilled craftspeople creating various gadgets and tools. Hidden in the shadows, Hattori practices his ninja skills, preparing for the climactic showdown.\\n\\n5. **Rooftop Showdown:**\\n   - As the story progresses, a crucial scene unfolds on the rooftop of a skyscraper during a thunderstorm. Here, the Transformers and Ben 10 face off against Doraemon and Ninja Hattori, utilizing both technology and ninja skills. The sky crackles with energy as powerful abilities are unleashed, and the rooftop becomes a battleground of epic proportions.\\n\\n6. **Alternate Dimension:**\\n   - As the battle intensifies, a rift opens, leading to an alternate dimension where time and space are distorted. This dimension features bizarre landscapes filled with floating islands and shifting environments. Here, both sides must navigate the chaos while facing their own fears and challenges, testing their teamwork and resolve before heading back to the final showdown.\\n\\n### Themes:\\n- **Teamwork:** The collaboration between different characters emphasizes the importance of unity in overcoming adversity.\\n- **Technology vs. Nature:** The contrast between the technological prowess of the Transformers and the traditional values of Ninja Hattori highlights the struggle between innovation and heritage.\\n- **Friendship and Loyalty:** Personal bonds are tested as characters must rely on each other to succeed in battle.\\n\\n### Story Arc:\\nThe plot delves into Ben Tennyson’s encounter with the Autobots as they uncover a sinister plan by Doraemon and Ninja Hattori to bend time to their will. As alliances form and betrayals emerge, a series of battles lead the characters through different settings, ultimately culminating in a transformative showdown that challenges their strengths and beliefs.\\n\\nThrough this narrative rich in action and creativity, the story encapsulates an epic confrontation that combines the universes of Transformers and Ben 10 with the whimsical nature of Doraemon and the ninja skills of Hattori.',\n",
       " 'premises': \"**Title: Transformers vs. Doraemon: The Ultimate Showdown**\\n\\n**Premise:**\\n\\nIn a world where dimensions collide, the universe faces a cataclysmic threat as the mischievous Doraemon and the clever Ninja Hattori join forces to unleash a powerful device capable of bending reality and time. Their goal? To reshape the world in their favor, filled with endless fun, but free from the responsibilities of heroism.\\n\\nAs the fabric of reality begins to unravel, two extraordinary teams are brought together. On one side, the brave Autobots, led by Optimus Prime, alongside the shape-shifting hero Ben Tennyson, who has access to his ultimate alien forms. With their combined strengths—technology and sheer versatility—they plan to stop Doraemon and Ninja Hattori from spreading chaos across dimensions.\\n\\nHowever, Doraemon wields his futuristic gadgets to create a series of whimsical traps and challenges, while Ninja Hattori uses his ninja skills to outmaneuver the heroes at every turn. As the battle rages across various iconic locations—from the quiet streets of Tokyo to the sprawling landscapes of Cybertron—the Autobots and Ben must adapt their strategies and work together.\\n\\nThe adventure escalates as Ben taps into alien powers like Humungousaur and Echo Echo, while the Autobots use their advanced technology and combat skills. But in a twist, Doraemon reveals an incredible gadget that can manipulate their powers, forcing Ben and the Autobots to think creatively and collaborate in ways they never expected.\\n\\nAs the two pairs clash in a series of high-stakes escapades filled with humor, action, and heartwarming moments, they ultimately come to realize that understanding and friendship might be the keys to overcoming their differences. In a final showdown, the fusion of technology, alien abilities, and creative problem-solving will determine the fate of not just their worlds, but all of reality. \\n\\nCan they set aside their differences and unite against a common cause before it's too late, or will Doraemon and Ninja Hattori succeed in their whimsical takeover? The battle for friendship and camaraderie has never been so electrifying!\",\n",
       " 'story_intro': \"### **Transformers vs. Doraemon: Ultimate Alliance**\\n\\nIn the heart of a sprawling futuristic metropolis, where neon lights danced against the night sky and the hum of advanced technology echoed through the streets, RumbleBolt revved his engines, ready for another day’s adventure. The agile Autobot transformed effortlessly into his sleek motorcycle form, zipping through the throngs of pedestrians and weaving past the towering skyscrapers that seemed to touch the stars. His humorous banter spilled from his speakers, lightening the mood as he navigated the urban jungle. “Watch out world, RumbleBolt is on the fast track to saved!” he quipped, eliciting smiles from onlookers.\\n\\nMeanwhile, somewhere deep beneath the roots of an ancient tree, Max Tennyson was adjusting the settings on his Omnitrix amidst the high-tech chaos of the Autobots' secret base. As Ben's cousin, Max had inherited the legacy of heroism, and he felt the weight of expectations on his shoulders. Yet today felt different—a tingle of excitement buzzed through him. “We need to be ready, RumbleBolt,” he said, determination etched on his face. “Doraemon and Ninja Hattori are planning something big, and I don’t like the sound of it.”\\n\\nAbove ground, the charming yet notoriously mischievous robotic cat, Doraemon, was busy in his hidden time travel lab, surrounded by a myriad of gadgets that flickered with scintillating lights. “Let’s show them a bit of fun, shall we, Hattori?” he exclaimed, grinning broadly at his ninja accomplice. With every gadget he unveiled, the atmosphere simmered with potential chaos; reality itself felt at risk as he fiddled with the mechanics of time, dreaming up pranks that would blur the lines between whimsy and havoc.\\n\\nAs the two sides prepared their strategies, the city's very core trembled with the promise of an imminent clash. The rooftops would soon become a battleground where speed, strength, and cunning collided—a stage for two very different worlds brought together by fate. Under a stormy sky, where clouds crackled with energy, RumbleBolt and Max would face off against Doraemon’s unpredictable gadgetry and Hattori’s stealthy prowess.\\n\\nIn this race against time, friendship and courage were about to be tested. The stakes were high, but as RumbleBolt revved his motorcycle engine and Max got ready to unleash his alien transformations, they knew one thing for certain: the true power of their alliance would not just be measured in battles won, but in the bonds forged through teamwork and unity.\\n\\nTogether, they would chase down an adventure that would become legendary—a tale where Transformers and Ben 10 allies would fight against a whimsically dangerous duo, hoping to restore order before time unraveled altogether. The ultimate showdown had begun, and the city held its breath.\"}"
      ]
     },
     "execution_count": 8,
     "metadata": {},
     "output_type": "execute_result"
    }
   ],
   "source": [
    "#Run the Graph\n",
    "state={\"topic\":\"Transformers and Ben 10 Ultimate ALien working together for a fiht against Doraemon and Ninja Hattori\"}\n",
    "\n",
    "result=compiled_graph.invoke(state)\n",
    "result"
   ]
  },
  {
   "cell_type": "code",
   "execution_count": 9,
   "id": "1037e2bd",
   "metadata": {},
   "outputs": [
    {
     "name": "stdout",
     "output_type": "stream",
     "text": [
      "### **Transformers vs. Doraemon: Ultimate Alliance**\n",
      "\n",
      "In the heart of a sprawling futuristic metropolis, where neon lights danced against the night sky and the hum of advanced technology echoed through the streets, RumbleBolt revved his engines, ready for another day’s adventure. The agile Autobot transformed effortlessly into his sleek motorcycle form, zipping through the throngs of pedestrians and weaving past the towering skyscrapers that seemed to touch the stars. His humorous banter spilled from his speakers, lightening the mood as he navigated the urban jungle. “Watch out world, RumbleBolt is on the fast track to saved!” he quipped, eliciting smiles from onlookers.\n",
      "\n",
      "Meanwhile, somewhere deep beneath the roots of an ancient tree, Max Tennyson was adjusting the settings on his Omnitrix amidst the high-tech chaos of the Autobots' secret base. As Ben's cousin, Max had inherited the legacy of heroism, and he felt the weight of expectations on his shoulders. Yet today felt different—a tingle of excitement buzzed through him. “We need to be ready, RumbleBolt,” he said, determination etched on his face. “Doraemon and Ninja Hattori are planning something big, and I don’t like the sound of it.”\n",
      "\n",
      "Above ground, the charming yet notoriously mischievous robotic cat, Doraemon, was busy in his hidden time travel lab, surrounded by a myriad of gadgets that flickered with scintillating lights. “Let’s show them a bit of fun, shall we, Hattori?” he exclaimed, grinning broadly at his ninja accomplice. With every gadget he unveiled, the atmosphere simmered with potential chaos; reality itself felt at risk as he fiddled with the mechanics of time, dreaming up pranks that would blur the lines between whimsy and havoc.\n",
      "\n",
      "As the two sides prepared their strategies, the city's very core trembled with the promise of an imminent clash. The rooftops would soon become a battleground where speed, strength, and cunning collided—a stage for two very different worlds brought together by fate. Under a stormy sky, where clouds crackled with energy, RumbleBolt and Max would face off against Doraemon’s unpredictable gadgetry and Hattori’s stealthy prowess.\n",
      "\n",
      "In this race against time, friendship and courage were about to be tested. The stakes were high, but as RumbleBolt revved his motorcycle engine and Max got ready to unleash his alien transformations, they knew one thing for certain: the true power of their alliance would not just be measured in battles won, but in the bonds forged through teamwork and unity.\n",
      "\n",
      "Together, they would chase down an adventure that would become legendary—a tale where Transformers and Ben 10 allies would fight against a whimsically dangerous duo, hoping to restore order before time unraveled altogether. The ultimate showdown had begun, and the city held its breath.\n"
     ]
    }
   ],
   "source": [
    "print(result[\"story_intro\"])"
   ]
  }
 ],
 "metadata": {
  "kernelspec": {
   "display_name": "venv",
   "language": "python",
   "name": "python3"
  },
  "language_info": {
   "codemirror_mode": {
    "name": "ipython",
    "version": 3
   },
   "file_extension": ".py",
   "mimetype": "text/x-python",
   "name": "python",
   "nbconvert_exporter": "python",
   "pygments_lexer": "ipython3",
   "version": "3.13.5"
  }
 },
 "nbformat": 4,
 "nbformat_minor": 5
}
