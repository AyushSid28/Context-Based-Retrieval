{
 "cells": [
  {
   "cell_type": "markdown",
   "id": "55c93e8c",
   "metadata": {},
   "source": [
    "# Routing in LangGraph\n",
    "\n",
    "## Definition\n",
    "\n",
    "Routing in LangGraph is a workflow control mechanism that determines which node or path to execute next based on current state, user input, or specific conditions.\n",
    "\n",
    "## Core Concept\n",
    "\n",
    "Routing acts as a decision-making system that evaluates inputs and directs the flow to appropriate nodes, enabling dynamic navigation through different conversation paths or processing workflows.\n"
   ]
  },
  {
   "cell_type": "code",
   "execution_count": null,
   "id": "fab1abf7",
   "metadata": {},
   "outputs": [
    {
     "data": {
      "text/plain": [
       "AIMessage(content='The capital of France is Paris.', additional_kwargs={'refusal': None}, response_metadata={'token_usage': {'completion_tokens': 7, 'prompt_tokens': 14, 'total_tokens': 21, 'completion_tokens_details': {'accepted_prediction_tokens': 0, 'audio_tokens': 0, 'reasoning_tokens': 0, 'rejected_prediction_tokens': 0}, 'prompt_tokens_details': {'audio_tokens': 0, 'cached_tokens': 0}}, 'model_provider': 'openai', 'model_name': 'gpt-4o-mini-2024-07-18', 'system_fingerprint': 'fp_560af6e559', 'id': 'chatcmpl-CUqsgyNjgAsesccI405dhYVvLG33d', 'service_tier': 'default', 'finish_reason': 'stop', 'logprobs': None}, id='lc_run--105f11b9-b884-4198-b0fd-4dbcfe4877fe-0', usage_metadata={'input_tokens': 14, 'output_tokens': 7, 'total_tokens': 21, 'input_token_details': {'audio': 0, 'cache_read': 0}, 'output_token_details': {'audio': 0, 'reasoning': 0}})"
      ]
     },
     "execution_count": 2,
     "metadata": {},
     "output_type": "execute_result"
    }
   ],
   "source": [
    "from dotenv import load_dotenv\n",
    "import os\n",
    "load_dotenv()\n",
    "from langchain_openai import ChatOpenAI\n",
    "os.environ[\"OPENAI_API_KEY\"]=os.getenv(\"OPENAI_API_KEY\")\n",
    "llm=ChatOpenAI(model=\"gpt-4o-mini\")\n",
    "\n",
    "result=llm.invoke(\"What is the capital of France?\")\n",
    "print(result.content)"
   ]
  },
  {
   "cell_type": "code",
   "execution_count": 14,
   "id": "682e1b84",
   "metadata": {},
   "outputs": [
    {
     "data": {
      "image/png": "[encoded data removed]",
      "text/plain": [
       "<IPython.core.display.Image object>"
      ]
     },
     "execution_count": 14,
     "metadata": {},
     "output_type": "execute_result"
    }
   ],
   "source": [
    "from typing_extensions import Literal,TypedDict\n",
    "from pydantic import BaseModel,Field\n",
    "from langchain_core.messages import HumanMessage,SystemMessage\n",
    "\n",
    "##Schema for structured output to use as routing logic\n",
    "class Route(BaseModel):\n",
    "    step:Literal[\"poem\",\"story\",\"joke\"]=Field(description=\"The next step in the routing process\")\n",
    "\n",
    "\n",
    "##Augment the LLM with schema for structured output\n",
    "router=llm.with_structured_output(Route)\n",
    "\n",
    "##State\n",
    "class State(TypedDict):\n",
    "    input:str\n",
    "    descision:str\n",
    "    output:str\n",
    "\n",
    "#Nodes\n",
    "def llm_call_1(state:State):\n",
    "    \"\"\"Story\"\"\"\n",
    "    print(\"LLM call 1 is called\")\n",
    "    result=llm.invoke(state[\"input\"])\n",
    "    return {\"output\":result.content}\n",
    "\n",
    "def llm_call_2(state:State):\n",
    "    \"\"\"Joke\"\"\"\n",
    "    print(\"LLM call 2 is called\")\n",
    "    result=llm.invoke(state[\"input\"])\n",
    "    return {\"output\":result.content}\n",
    "\n",
    "\n",
    "def llm_call_3(state:State):\n",
    "    \"\"\"Poem\"\"\"\n",
    "    print(\"LLM call 3 is called\")\n",
    "    result=llm.invoke(state[\"input\"])\n",
    "    return {\"output\":result.content}\n",
    "\n",
    "\n",
    "\n",
    "def llm_call_router(state:State):\n",
    "    descision=router.invoke(\n",
    "        [\n",
    "            SystemMessage(content=\"Route the input to story,joke or poem based on the users request\"),\n",
    "            HumanMessage(content=state[\"input\"])\n",
    "\n",
    "\n",
    "        ]\n",
    "    )\n",
    "    return {\"descision\":descision.step}\n",
    "\n",
    "\n",
    "def route_descision(state:State):\n",
    "    if state[\"descision\"]==\"story\":\n",
    "        return \"llm_call_1\"\n",
    "\n",
    "    elif state[\"descision\"]==\"joke\":\n",
    "        return \"llm_call_2\"\n",
    "\n",
    "    elif state[\"descision\"]==\"poem\":\n",
    "        return \"llm_call_3\"\n",
    "\n",
    "\n",
    "from langgraph.graph import StateGraph,START,END\n",
    "from IPython.display import Image\n",
    "#Build the Workflow\n",
    "router_builder=StateGraph(State)\n",
    "\n",
    "\n",
    "router_builder.add_node(\"llm_call_1\",llm_call_1)\n",
    "router_builder.add_node(\"llm_call_2\",llm_call_2)\n",
    "router_builder.add_node(\"llm_call_3\",llm_call_3)\n",
    "router_builder.add_node(\"router\",llm_call_router)\n",
    "\n",
    "router_builder.add_edge(START,\"router\")\n",
    "router_builder.add_conditional_edges(\n",
    "    \"router\",\n",
    "    route_descision,\n",
    "    {\n",
    "        #Name returned by route descision : Name of next node to visit\n",
    "        \"llm_call_1\":\"llm_call_1\",\n",
    "        \"llm_call_2\":\"llm_call_2\",\n",
    "        \"llm_call_3\":\"llm_call_3\",\n",
    "    },\n",
    ")\n",
    "\n",
    "router_builder.add_edge(\"llm_call_1\",END)\n",
    "router_builder.add_edge(\"llm_call_2\",END)\n",
    "router_builder.add_edge(\"llm_call_3\",END)\n",
    "\n",
    "router_graph=router_builder.compile()\n",
    "\n",
    "# Visualize the graph\n",
    "Image(router_graph.get_graph().draw_mermaid_png()) \n",
    "\n",
    "\n",
    "\n",
    "\n",
    "\n",
    "\n"
   ]
  },
  {
   "cell_type": "code",
   "execution_count": 16,
   "id": "efaff03a",
   "metadata": {},
   "outputs": [
    {
     "name": "stdout",
     "output_type": "stream",
     "text": [
      "LLM call 2 is called\n",
      "Why did the agentic AI system bring a ladder to work? \n",
      "\n",
      "Because it wanted to reach new levels of autonomy!\n"
     ]
    }
   ],
   "source": [
    "state=router_graph.invoke({\"input\":\"Write me a joke about Agentic AI Systems\"})\n",
    "print(state[\"output\"])"
   ]
  }
 ],
 "metadata": {
  "kernelspec": {
   "display_name": "venv",
   "language": "python",
   "name": "python3"
  },
  "language_info": {
   "codemirror_mode": {
    "name": "ipython",
    "version": 3
   },
   "file_extension": ".py",
   "mimetype": "text/x-python",
   "name": "python",
   "nbconvert_exporter": "python",
   "pygments_lexer": "ipython3",
   "version": "3.13.5"
  }
 },
 "nbformat": 4,
 "nbformat_minor": 5
}
